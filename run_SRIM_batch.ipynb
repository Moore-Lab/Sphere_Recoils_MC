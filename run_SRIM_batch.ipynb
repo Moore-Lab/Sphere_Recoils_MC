{
 "cells": [
  {
   "cell_type": "code",
   "execution_count": 2,
   "metadata": {},
   "outputs": [],
   "source": [
    "import numpy as np\n",
    "import matplotlib.pyplot as plt\n",
    "import alpha_recoil_sim as ar\n",
    "import importlib, glob, os, shutil, subprocess"
   ]
  },
  {
   "cell_type": "code",
   "execution_count": 2,
   "metadata": {},
   "outputs": [],
   "source": [
    "## first make a list of all the daughter isotopes we need\n",
    "path = \"/Users/dcmoore/Library/CloudStorage/GoogleDrive-david.c.moore@yale.edu/My Drive/yale/uspheres/alpha_recoils_Grimm/Sphere_Recoils_MC\"\n",
    "\n",
    "iso_list = ['Ac-225', 'Pb-212', 'At-211', 'Th-227', 'Ra-223']\n",
    "\n",
    "iso_dict = {}\n",
    "\n",
    "for iso in iso_list:\n",
    "    ciso = iso[:2].lower()\n",
    "    cA = iso[-3:]\n",
    "    iso_dict[iso] = ar.parse_decay_chain(path + \"/decay_data/\" + ciso + \"_\" + cA + \"_decay_chain.txt\")"
   ]
  },
  {
   "cell_type": "code",
   "execution_count": 3,
   "metadata": {},
   "outputs": [
    {
     "name": "stdout",
     "output_type": "stream",
     "text": [
      "['Fr-221', 'At-217', 'Bi-213', 'Tl-209', 'Pb-209', 'Tl-208', 'Pb-208', 'Bi-207', 'Pb-207', 'Ra-223', 'Rn-219', 'Po-215', 'Pb-211', 'Tl-207']\n"
     ]
    }
   ],
   "source": [
    "## go through the dictionary and make a list of all alpha decay daughters we need SRIM simulations for\n",
    "daughter_list = []\n",
    "for iso in iso_list:\n",
    "    curr_dict = iso_dict[iso]\n",
    "    \n",
    "    curr_keys = curr_dict.keys()\n",
    "\n",
    "    for k in curr_keys:\n",
    "        if not '_daughters' in k: continue\n",
    "\n",
    "        curr_daught = curr_dict[k]\n",
    "        curr_alpha = curr_dict[k[:6] + \"_decays\"][:,1] > 0\n",
    "\n",
    "        for j in range(len(curr_daught)):\n",
    "            if( curr_alpha[j] and not curr_daught[j] in daughter_list):\n",
    "                daughter_list.append(curr_daught[j]) \n",
    "\n",
    "print(daughter_list)\n"
   ]
  },
  {
   "cell_type": "code",
   "execution_count": 15,
   "metadata": {},
   "outputs": [],
   "source": [
    "## now generate the TRIM input files from the templates for the list of isotopes above\n",
    "importlib.reload(ar)\n",
    "\n",
    "material_list = [\"SiO2\", \"Au\", \"Ag\"]\n",
    "recoil_energy = 200 ## keV\n",
    "num_events = 10000 ## number of events for each isotope and material\n",
    "\n",
    "fidx = 0\n",
    "for mat in material_list:\n",
    "\n",
    "    template_file = path + \"/TRIM_input_files/TRIM.IN_%s.txt\"%mat\n",
    "\n",
    "    with open(template_file, 'r') as tf:\n",
    "        template_lines = tf.readlines()\n",
    "\n",
    "    for iso in daughter_list:\n",
    "\n",
    "        output_file = path + \"/TRIM_input_files/TRIM.IN_%d\"%fidx\n",
    "\n",
    "        with open(output_file, 'wt') as of:\n",
    "            \n",
    "            for lidx, l in enumerate(template_lines):\n",
    "\n",
    "                if lidx == 0: ## write the first line as a header unchanged\n",
    "                    of.write(template_lines[0])\n",
    "                    continue\n",
    "\n",
    "                ## update ion information\n",
    "                if template_lines[lidx - 1].startswith(\"Ion:\"):\n",
    "                    Z, A = ar.get_Z_A_for_iso(iso)\n",
    "                    ion_line = \"    %d    %d    %d    0    %d    1    %d\\n\"%(Z, A, recoil_energy, num_events, num_events)\n",
    "                    of.write(ion_line)\n",
    "                elif template_lines[lidx - 1].startswith(\"Target material\"):\n",
    "                    new_start = \"%s (%d) into \"%(iso, recoil_energy)\n",
    "                    newl = l[0] + new_start + l[14:]\n",
    "                    of.write(newl)\n",
    "                else:\n",
    "                    of.write(l)\n",
    "\n",
    "        fidx += 1\n"
   ]
  },
  {
   "cell_type": "code",
   "execution_count": 8,
   "metadata": {},
   "outputs": [
    {
     "name": "stdout",
     "output_type": "stream",
     "text": [
      "Copied C:/SRIM/Sphere_Recoils_MC/TRIM_input_files\\TRIM.IN_0 to C:/SRIM/TRIM.IN\n",
      "C:\\SRIM\n"
     ]
    },
    {
     "ename": "TypeError",
     "evalue": "%d format: a number is required, not str",
     "output_type": "error",
     "traceback": [
      "\u001b[1;31m---------------------------------------------------------------------------\u001b[0m",
      "\u001b[1;31mTypeError\u001b[0m                                 Traceback (most recent call last)",
      "\u001b[1;32m<ipython-input-8-8425bcaaa604>\u001b[0m in \u001b[0;36m<module>\u001b[1;34m\u001b[0m\n\u001b[0;32m     19\u001b[0m     \u001b[0msubprocess\u001b[0m\u001b[1;33m.\u001b[0m\u001b[0mcall\u001b[0m\u001b[1;33m(\u001b[0m\u001b[1;34m\"./TRIM.exe\"\u001b[0m\u001b[1;33m)\u001b[0m\u001b[1;33m\u001b[0m\u001b[1;33m\u001b[0m\u001b[0m\n\u001b[0;32m     20\u001b[0m \u001b[1;33m\u001b[0m\u001b[0m\n\u001b[1;32m---> 21\u001b[1;33m     \u001b[0mshutil\u001b[0m\u001b[1;33m.\u001b[0m\u001b[0mcopy\u001b[0m\u001b[1;33m(\u001b[0m\u001b[0mexyz_file\u001b[0m\u001b[1;33m,\u001b[0m \u001b[0moutput_dir\u001b[0m \u001b[1;33m+\u001b[0m \u001b[1;34m\"\\exyz_%d.txt\"\u001b[0m\u001b[1;33m%\u001b[0m\u001b[0mfile_idx\u001b[0m\u001b[1;33m)\u001b[0m\u001b[1;33m\u001b[0m\u001b[1;33m\u001b[0m\u001b[0m\n\u001b[0m",
      "\u001b[1;31mTypeError\u001b[0m: %d format: a number is required, not str"
     ]
    }
   ],
   "source": [
    "## code to run on windows computer to run TRIM jobs\n",
    "input_files = glob.glob(\"C:/SRIM/Sphere_Recoils_MC/TRIM_input_files/*\")\n",
    "\n",
    "destination_file = r\"C:/SRIM/TRIM.IN\"\n",
    "trim_path = r\"C:\\SRIM\"\n",
    "output_dir = r\"C:\\SRIM\\output_files_batch\"\n",
    "exyz_file = r\"C:\\SRIM\\SRIM Outputs\\EXYZ.txt\"\n",
    "\n",
    "for file in input_files[:1]:\n",
    "    if file.endswith('.txt'): continue\n",
    "\n",
    "    file_idx = file.split(\"_\")[-1]\n",
    "\n",
    "    shutil.copy(file, destination_file)\n",
    "    print(\"Copied %s to %s\"%(file, destination_file)) \n",
    "\n",
    "    print(trim_path)\n",
    "    os.chdir(trim_path)\n",
    "    subprocess.call(\"./TRIM.exe\")\n",
    "\n",
    "    shutil.copy(exyz_file, output_dir + \"\\exyz_%s.txt\"%file_idx)\n"
   ]
  },
  {
   "cell_type": "code",
   "execution_count": null,
   "metadata": {},
   "outputs": [],
   "source": []
  }
 ],
 "metadata": {
  "kernelspec": {
   "display_name": "base",
   "language": "python",
   "name": "python3"
  },
  "language_info": {
   "codemirror_mode": {
    "name": "ipython",
    "version": 3
   },
   "file_extension": ".py",
   "mimetype": "text/x-python",
   "name": "python",
   "nbconvert_exporter": "python",
   "pygments_lexer": "ipython3",
   "version": "3.8.5"
  },
  "orig_nbformat": 4,
  "vscode": {
   "interpreter": {
    "hash": "e5e622b25f84b7135d4643d5fac34167b855b0a6d41d1f6695eb3e0f89a915df"
   }
  }
 },
 "nbformat": 4,
 "nbformat_minor": 2
}
