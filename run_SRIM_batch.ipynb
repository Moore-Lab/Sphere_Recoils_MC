{
 "cells": [
  {
   "cell_type": "code",
   "execution_count": 8,
   "metadata": {},
   "outputs": [],
   "source": [
    "import numpy as np\n",
    "import matplotlib.pyplot as plt\n",
    "import alpha_recoil_sim as ar\n",
    "import importlib"
   ]
  },
  {
   "cell_type": "code",
   "execution_count": 2,
   "metadata": {},
   "outputs": [],
   "source": [
    "## first make a list of all the daughter isotopes we need\n",
    "path = \"/Users/dcmoore/Library/CloudStorage/GoogleDrive-david.c.moore@yale.edu/My Drive/yale/uspheres/alpha_recoils_Grimm/Sphere_Recoils_MC\"\n",
    "\n",
    "iso_list = ['Ac-225', 'Pb-212', 'At-211', 'Th-227', 'Ra-223']\n",
    "\n",
    "iso_dict = {}\n",
    "\n",
    "for iso in iso_list:\n",
    "    ciso = iso[:2].lower()\n",
    "    cA = iso[-3:]\n",
    "    iso_dict[iso] = ar.parse_decay_chain(path + \"/decay_data/\" + ciso + \"_\" + cA + \"_decay_chain.txt\")"
   ]
  },
  {
   "cell_type": "code",
   "execution_count": 3,
   "metadata": {},
   "outputs": [
    {
     "name": "stdout",
     "output_type": "stream",
     "text": [
      "['Fr-221', 'At-217', 'Bi-213', 'Tl-209', 'Pb-209', 'Tl-208', 'Pb-208', 'Bi-207', 'Pb-207', 'Ra-223', 'Rn-219', 'Po-215', 'Pb-211', 'Tl-207']\n"
     ]
    }
   ],
   "source": [
    "## go through the dictionary and make a list of all alpha decay daughters we need SRIM simulations for\n",
    "daughter_list = []\n",
    "for iso in iso_list:\n",
    "    curr_dict = iso_dict[iso]\n",
    "    \n",
    "    curr_keys = curr_dict.keys()\n",
    "\n",
    "    for k in curr_keys:\n",
    "        if not '_daughters' in k: continue\n",
    "\n",
    "        curr_daught = curr_dict[k]\n",
    "        curr_alpha = curr_dict[k[:6] + \"_decays\"][:,1] > 0\n",
    "\n",
    "        for j in range(len(curr_daught)):\n",
    "            if( curr_alpha[j] and not curr_daught[j] in daughter_list):\n",
    "                daughter_list.append(curr_daught[j]) \n",
    "\n",
    "print(daughter_list)\n"
   ]
  },
  {
   "cell_type": "code",
   "execution_count": 15,
   "metadata": {},
   "outputs": [],
   "source": [
    "## now generate the TRIM input files from the templates for the list of isotopes above\n",
    "importlib.reload(ar)\n",
    "\n",
    "material_list = [\"SiO2\", \"Au\", \"Ag\"]\n",
    "recoil_energy = 200 ## keV\n",
    "num_events = 10000 ## number of events for each isotope and material\n",
    "\n",
    "fidx = 0\n",
    "for mat in material_list:\n",
    "\n",
    "    template_file = path + \"/TRIM_input_files/TRIM.IN_%s.txt\"%mat\n",
    "\n",
    "    with open(template_file, 'r') as tf:\n",
    "        template_lines = tf.readlines()\n",
    "\n",
    "    for iso in daughter_list:\n",
    "\n",
    "        output_file = path + \"/TRIM_input_files/TRIM.IN_%d\"%fidx\n",
    "\n",
    "        with open(output_file, 'wt') as of:\n",
    "            \n",
    "            for lidx, l in enumerate(template_lines):\n",
    "\n",
    "                if lidx == 0: ## write the first line as a header unchanged\n",
    "                    of.write(template_lines[0])\n",
    "                    continue\n",
    "\n",
    "                ## update ion information\n",
    "                if template_lines[lidx - 1].startswith(\"Ion:\"):\n",
    "                    Z, A = ar.get_Z_A_for_iso(iso)\n",
    "                    ion_line = \"    %d    %d    %d    0    %d    1    %d\\n\"%(Z, A, recoil_energy, num_events, num_events)\n",
    "                    of.write(ion_line)\n",
    "                elif template_lines[lidx - 1].startswith(\"Target material\"):\n",
    "                    new_start = \"%s (%d) into \"%(iso, recoil_energy)\n",
    "                    newl = l[0] + new_start + l[14:]\n",
    "                    of.write(newl)\n",
    "                else:\n",
    "                    of.write(l)\n",
    "\n",
    "        fidx += 1\n"
   ]
  },
  {
   "cell_type": "code",
   "execution_count": null,
   "metadata": {},
   "outputs": [],
   "source": []
  }
 ],
 "metadata": {
  "kernelspec": {
   "display_name": "Python 3",
   "language": "python",
   "name": "python3"
  },
  "language_info": {
   "codemirror_mode": {
    "name": "ipython",
    "version": 3
   },
   "file_extension": ".py",
   "mimetype": "text/x-python",
   "name": "python",
   "nbconvert_exporter": "python",
   "pygments_lexer": "ipython3",
   "version": "3.9.10"
  },
  "orig_nbformat": 4,
  "vscode": {
   "interpreter": {
    "hash": "aee8b7b246df8f9039afb4144a1f6fd8d2ca17a180786b69acc140d282b71a49"
   }
  }
 },
 "nbformat": 4,
 "nbformat_minor": 2
}
