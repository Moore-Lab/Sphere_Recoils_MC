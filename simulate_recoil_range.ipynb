{
 "cells": [
  {
   "cell_type": "code",
   "execution_count": 6,
   "metadata": {},
   "outputs": [],
   "source": [
    "## jupyter notebook to simulate the range of the nuclear recoils in a given decay chain\n",
    "\n",
    "import numpy as np\n",
    "import matplotlib.pyplot as plt\n",
    "import alpha_recoil_sim as ar\n",
    "import importlib\n"
   ]
  },
  {
   "cell_type": "code",
   "execution_count": 35,
   "metadata": {},
   "outputs": [
    {
     "ename": "FileNotFoundError",
     "evalue": "[Errno 2] No such file or directory: '/Users/dcmoore/Library/CloudStorage/GoogleDrive-david.c.moore@yale.edu/My Drive/yale/uspheres/alpha_recoils_Grimm/decay_data/ac_225_decay_chain.txt'",
     "output_type": "error",
     "traceback": [
      "\u001b[0;31m---------------------------------------------------------------------------\u001b[0m",
      "\u001b[0;31mFileNotFoundError\u001b[0m                         Traceback (most recent call last)",
      "\u001b[1;32m/Users/dcmoore/Library/CloudStorage/GoogleDrive-david.c.moore@yale.edu/My Drive/yale/uspheres/alpha_recoils_Grimm/Sphere_Recoils_MC/simulate_recoil_range.ipynb Cell 2\u001b[0m in \u001b[0;36m<cell line: 9>\u001b[0;34m()\u001b[0m\n\u001b[1;32m      <a href='vscode-notebook-cell:/Users/dcmoore/Library/CloudStorage/GoogleDrive-david.c.moore%40yale.edu/My%20Drive/yale/uspheres/alpha_recoils_Grimm/Sphere_Recoils_MC/simulate_recoil_range.ipynb#W1sZmlsZQ%3D%3D?line=6'>7</a>\u001b[0m iso_dict \u001b[39m=\u001b[39m {}\n\u001b[1;32m      <a href='vscode-notebook-cell:/Users/dcmoore/Library/CloudStorage/GoogleDrive-david.c.moore%40yale.edu/My%20Drive/yale/uspheres/alpha_recoils_Grimm/Sphere_Recoils_MC/simulate_recoil_range.ipynb#W1sZmlsZQ%3D%3D?line=8'>9</a>\u001b[0m \u001b[39mfor\u001b[39;00m iso \u001b[39min\u001b[39;00m iso_list:\n\u001b[0;32m---> <a href='vscode-notebook-cell:/Users/dcmoore/Library/CloudStorage/GoogleDrive-david.c.moore%40yale.edu/My%20Drive/yale/uspheres/alpha_recoils_Grimm/Sphere_Recoils_MC/simulate_recoil_range.ipynb#W1sZmlsZQ%3D%3D?line=10'>11</a>\u001b[0m     iso_dict[iso] \u001b[39m=\u001b[39m ar\u001b[39m.\u001b[39;49mparse_decay_chain(path \u001b[39m+\u001b[39;49m \u001b[39m\"\u001b[39;49m\u001b[39m/decay_data/\u001b[39;49m\u001b[39m\"\u001b[39;49m \u001b[39m+\u001b[39;49m iso \u001b[39m+\u001b[39;49m \u001b[39m\"\u001b[39;49m\u001b[39m_decay_chain.txt\u001b[39;49m\u001b[39m\"\u001b[39;49m)\n",
      "File \u001b[0;32m~/Library/CloudStorage/GoogleDrive-david.c.moore@yale.edu/My Drive/yale/uspheres/alpha_recoils_Grimm/Sphere_Recoils_MC/alpha_recoil_sim.py:10\u001b[0m, in \u001b[0;36mparse_decay_chain\u001b[0;34m(file)\u001b[0m\n\u001b[1;32m      8\u001b[0m \u001b[39mdef\u001b[39;00m \u001b[39mparse_decay_chain\u001b[39m(file):\n\u001b[0;32m---> 10\u001b[0m     \u001b[39mwith\u001b[39;00m \u001b[39mopen\u001b[39;49m(file) \u001b[39mas\u001b[39;00m fin:\n\u001b[1;32m     11\u001b[0m         lines \u001b[39m=\u001b[39m fin\u001b[39m.\u001b[39mreadlines()\n\u001b[1;32m     13\u001b[0m     decay_chain_dict \u001b[39m=\u001b[39m {}\n",
      "\u001b[0;31mFileNotFoundError\u001b[0m: [Errno 2] No such file or directory: '/Users/dcmoore/Library/CloudStorage/GoogleDrive-david.c.moore@yale.edu/My Drive/yale/uspheres/alpha_recoils_Grimm/decay_data/ac_225_decay_chain.txt'"
     ]
    }
   ],
   "source": [
    "## make dictionary containing decay chain information for a given list of isotopes\n",
    "\n",
    "path = \"/Users/dcmoore/Library/CloudStorage/GoogleDrive-david.c.moore@yale.edu/My Drive/yale/uspheres/alpha_recoils_Grimm/Sphere_Recoils_MC\"\n",
    "\n",
    "iso_list = ['ac_225', 'pb_212', 'at_211', 'th_227', 'ra_223']\n",
    "\n",
    "iso_dict = {}\n",
    "\n",
    "for iso in iso_list:\n",
    "\n",
    "    iso_dict[iso] = ar.parse_decay_chain(path + \"/decay_data/\" + iso + \"_decay_chain.txt\")"
   ]
  },
  {
   "cell_type": "code",
   "execution_count": null,
   "metadata": {},
   "outputs": [],
   "source": []
  }
 ],
 "metadata": {
  "kernelspec": {
   "display_name": "Python 3",
   "language": "python",
   "name": "python3"
  },
  "language_info": {
   "codemirror_mode": {
    "name": "ipython",
    "version": 3
   },
   "file_extension": ".py",
   "mimetype": "text/x-python",
   "name": "python",
   "nbconvert_exporter": "python",
   "pygments_lexer": "ipython3",
   "version": "3.9.10"
  },
  "orig_nbformat": 4,
  "vscode": {
   "interpreter": {
    "hash": "aee8b7b246df8f9039afb4144a1f6fd8d2ca17a180786b69acc140d282b71a49"
   }
  }
 },
 "nbformat": 4,
 "nbformat_minor": 2
}
