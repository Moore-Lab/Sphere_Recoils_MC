{
 "cells": [
  {
   "cell_type": "code",
   "execution_count": 6,
   "metadata": {},
   "outputs": [],
   "source": [
    "## jupyter notebook to simulate the range of the nuclear recoils in a given decay chain\n",
    "\n",
    "import numpy as np\n",
    "import matplotlib.pyplot as plt\n",
    "import alpha_recoil_sim as ar\n",
    "import importlib\n"
   ]
  },
  {
   "cell_type": "code",
   "execution_count": 36,
   "metadata": {},
   "outputs": [],
   "source": [
    "## make dictionary containing decay chain information for a given list of isotopes\n",
    "path = \"/Users/dcmoore/Library/CloudStorage/GoogleDrive-david.c.moore@yale.edu/My Drive/yale/uspheres/alpha_recoils_Grimm/Sphere_Recoils_MC\"\n",
    "\n",
    "iso_list = ['ac_225', 'pb_212', 'at_211', 'th_227', 'ra_223']\n",
    "\n",
    "iso_dict = {}\n",
    "\n",
    "for iso in iso_list:\n",
    "\n",
    "    iso_dict[iso] = ar.parse_decay_chain(path + \"/decay_data/\" + iso + \"_decay_chain.txt\")"
   ]
  },
  {
   "cell_type": "code",
   "execution_count": 37,
   "metadata": {},
   "outputs": [
    {
     "name": "stdout",
     "output_type": "stream",
     "text": [
      "{'ac_225': {'Ac-225_t12': 864000.0, 'Ac-225_decays': array([[5.070e-01, 5.830e+03],\n",
      "       [1.810e-01, 5.793e+03],\n",
      "       [8.600e-02, 5.791e+03],\n",
      "       [9.300e-02, 5.732e+03],\n",
      "       [3.100e-02, 5.724e+03],\n",
      "       [1.020e-01, 5.637e+03]]), 'Ac-225_daughters': ['Fr-221', 'Fr-221', 'Fr-221', 'Fr-221', 'Fr-221', 'Fr-221'], 'Fr-221_t12': 286.1, 'Fr-221_decays': array([[8.330e-01, 6.341e+03],\n",
      "       [1.400e-02, 6.242e+03],\n",
      "       [1.530e-01, 6.126e+03]]), 'Fr-221_daughters': ['At-217', 'At-217', 'At-217'], 'At-217_t12': 0.0323, 'At-217_decays': array([[1.000e+00, 7.067e+03]]), 'At-217_daughters': ['Bi-213'], 'Bi-213_t12': 2736.0, 'Bi-213_decays': array([[1.959e-02, 5.875e+03],\n",
      "       [1.810e-03, 5.558e+03],\n",
      "       [9.786e-01, 0.000e+00]]), 'Bi-213_daughters': ['Tl-209', 'Tl-209', 'Po-213'], 'Tl-209_t12': 129.60000000000002, 'Tl-209_decays': array([[1., 0.]]), 'Tl-209_daughters': ['Pb-209'], 'Po-213_t12': 3.7e-06, 'Po-213_decays': array([[1.000e+00, 8.376e+03]]), 'Po-213_daughters': ['Pb-209'], 'Pb-209_t12': 12002.4, 'Pb-209_decays': array([[1., 0.]]), 'Pb-209_daughters': ['Bi-209'], 'Bi-209_t12': -1.0}, 'pb_212': {'Pb-212_t12': 38160.0, 'Pb-212_decays': array([[1., 0.]]), 'Pb-212_daughters': ['Bi-212'], 'Bi-212_t12': 3636.0, 'Bi-212_decays': array([[9.750e-02, 6.090e+03],\n",
      "       [2.513e-01, 6.051e+03],\n",
      "       [6.512e-01, 0.000e+00]]), 'Bi-212_daughters': ['Tl-208', 'Tl-208', 'Po-212'], 'Tl-208_t12': 183.0, 'Tl-208_decays': array([[1., 0.]]), 'Tl-208_daughters': ['Pb-208'], 'Po-212_t12': 2.99e-07, 'Po-212_decays': array([[1.000e+00, 8.785e+03]]), 'Po-212_daughters': ['Pb-208'], 'Pb-208_t12': -1.0}, 'at_211': {'At-211_t12': 25956.0, 'At-211_decays': array([[4.1800e-01, 5.8695e+03],\n",
      "       [5.8200e-01, 0.0000e+00]]), 'At-211_daughters': ['Bi-207', 'Po-211'], 'Bi-207_t12': 997192857.6, 'Bi-207_decays': array([[1., 0.]]), 'Bi-207_daughters': ['Pb-207'], 'Po-211_t12': 0.516, 'Po-211_decays': array([[9.892e-01, 7.450e+03],\n",
      "       [5.500e-03, 6.892e+03],\n",
      "       [5.300e-03, 6.568e+03]]), 'Po-211_daughters': ['Pb-207', 'Pb-207', 'Pb-207'], 'Pb-207_t12': -1.0}, 'th_227': {'Th-227_t12': 1615680.0, 'Th-227_decays': array([[2.420e-01, 6.038e+03],\n",
      "       [2.900e-02, 6.009e+03],\n",
      "       [2.350e-01, 5.978e+03],\n",
      "       [3.000e-02, 5.960e+03],\n",
      "       [8.000e-03, 5.916e+03],\n",
      "       [2.000e-03, 5.910e+03],\n",
      "       [2.400e-02, 5.867e+03],\n",
      "       [1.300e-02, 5.808e+03],\n",
      "       [2.090e-01, 5.757e+03],\n",
      "       [4.900e-02, 5.713e+03],\n",
      "       [8.300e-02, 5.709e+03],\n",
      "       [3.600e-02, 5.701e+03],\n",
      "       [1.500e-02, 5.693e+03],\n",
      "       [2.500e-02, 5.668e+03]]), 'Th-227_daughters': ['Ra-223', 'Ra-223', 'Ra-223', 'Ra-223', 'Ra-223', 'Ra-223', 'Ra-223', 'Ra-223', 'Ra-223', 'Ra-223', 'Ra-223', 'Ra-223', 'Ra-223', 'Ra-223'], 'Ra-223_t12': 984960.0, 'Ra-223_decays': array([[1.000e-02, 5.871e+03],\n",
      "       [3.000e-03, 5.858e+03],\n",
      "       [8.900e-02, 5.747e+03],\n",
      "       [5.120e-01, 5.716e+03],\n",
      "       [2.500e-01, 5.607e+03],\n",
      "       [8.900e-02, 5.540e+03],\n",
      "       [1.000e-02, 5.502e+03],\n",
      "       [3.700e-02, 5.434e+03]]), 'Ra-223_daughters': ['Rn-219', 'Rn-219', 'Rn-219', 'Rn-219', 'Rn-219', 'Rn-219', 'Rn-219', 'Rn-219'], 'Rn-219_t12': 3.96, 'Rn-219_decays': array([[7.940e-01, 6.819e+03],\n",
      "       [1.290e-01, 6.553e+03],\n",
      "       [1.000e-03, 6.530e+03],\n",
      "       [7.600e-02, 6.425e+03]]), 'Rn-219_daughters': ['Po-215', 'Po-215', 'Po-215', 'Po-215'], 'Po-215_t12': 0.00178, 'Po-215_decays': array([[1.000e+00, 7.386e+03]]), 'Po-215_daughters': ['Pb-211'], 'Pb-211_t12': 2166.0, 'Pb-211_decays': array([[1., 0.]]), 'Pb-211_daughters': ['Bi-211'], 'Bi-211_t12': 128.4, 'Bi-211_decays': array([[8.354e-01, 6.623e+03],\n",
      "       [1.619e-01, 6.278e+03],\n",
      "       [2.700e-03, 0.000e+00]]), 'Bi-211_daughters': ['Tl-207', 'Tl-207', 'Po-211'], 'Po-211_t12': 0.516, 'Po-211_decays': array([[9.892e-01, 7.450e+03],\n",
      "       [5.500e-03, 6.892e+03],\n",
      "       [5.300e-03, 6.568e+03]]), 'Po-211_daughters': ['Pb-207', 'Pb-207', 'Pb-207'], 'Tl-207_t12': 286.2, 'Tl-207_decays': array([[1., 0.]]), 'Tl-207_daughters': ['Pb-207'], 'Pb-207_t12': -1.0}, 'ra_223': {'Ra-223_t12': 984960.0, 'Ra-223_decays': array([[1.000e-02, 5.871e+03],\n",
      "       [3.000e-03, 5.858e+03],\n",
      "       [8.900e-02, 5.747e+03],\n",
      "       [5.120e-01, 5.716e+03],\n",
      "       [2.500e-01, 5.607e+03],\n",
      "       [8.900e-02, 5.540e+03],\n",
      "       [1.000e-02, 5.502e+03],\n",
      "       [3.700e-02, 5.434e+03]]), 'Ra-223_daughters': ['Rn-219', 'Rn-219', 'Rn-219', 'Rn-219', 'Rn-219', 'Rn-219', 'Rn-219', 'Rn-219'], 'Rn-219_t12': 3.96, 'Rn-219_decays': array([[7.940e-01, 6.819e+03],\n",
      "       [1.290e-01, 6.553e+03],\n",
      "       [1.000e-03, 6.530e+03],\n",
      "       [7.600e-02, 6.425e+03]]), 'Rn-219_daughters': ['Po-215', 'Po-215', 'Po-215', 'Po-215'], 'Po-215_t12': 0.00178, 'Po-215_decays': array([[1.000e+00, 7.386e+03]]), 'Po-215_daughters': ['Pb-211'], 'Pb-211_t12': 2166.0, 'Pb-211_decays': array([[1., 0.]]), 'Pb-211_daughters': ['Bi-211'], 'Bi-211_t12': 128.4, 'Bi-211_decays': array([[8.354e-01, 6.623e+03],\n",
      "       [1.619e-01, 6.278e+03],\n",
      "       [2.700e-03, 0.000e+00]]), 'Bi-211_daughters': ['Tl-207', 'Tl-207', 'Po-211'], 'Po-211_t12': 0.516, 'Po-211_decays': array([[9.892e-01, 7.450e+03],\n",
      "       [5.500e-03, 6.892e+03],\n",
      "       [5.300e-03, 6.568e+03]]), 'Po-211_daughters': ['Pb-207', 'Pb-207', 'Pb-207'], 'Tl-207_t12': 286.2, 'Tl-207_decays': array([[1., 0.]]), 'Tl-207_daughters': ['Pb-207'], 'Pb-207_t12': -1.0}}\n"
     ]
    }
   ],
   "source": [
    "print(iso_dict)"
   ]
  },
  {
   "cell_type": "code",
   "execution_count": null,
   "metadata": {},
   "outputs": [],
   "source": []
  }
 ],
 "metadata": {
  "kernelspec": {
   "display_name": "Python 3",
   "language": "python",
   "name": "python3"
  },
  "language_info": {
   "codemirror_mode": {
    "name": "ipython",
    "version": 3
   },
   "file_extension": ".py",
   "mimetype": "text/x-python",
   "name": "python",
   "nbconvert_exporter": "python",
   "pygments_lexer": "ipython3",
   "version": "3.9.10"
  },
  "orig_nbformat": 4,
  "vscode": {
   "interpreter": {
    "hash": "aee8b7b246df8f9039afb4144a1f6fd8d2ca17a180786b69acc140d282b71a49"
   }
  }
 },
 "nbformat": 4,
 "nbformat_minor": 2
}
